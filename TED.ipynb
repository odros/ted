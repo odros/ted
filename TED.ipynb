{
  "nbformat": 4,
  "nbformat_minor": 0,
  "metadata": {
    "colab": {
      "name": "TED.ipynb",
      "provenance": [],
      "collapsed_sections": [],
      "toc_visible": true,
      "authorship_tag": "ABX9TyOtpQ8u60x4vBt+Yqp9uIJW",
      "include_colab_link": true
    },
    "kernelspec": {
      "name": "python3",
      "display_name": "Python 3"
    },
    "language_info": {
      "name": "python"
    }
  },
  "cells": [
    {
      "cell_type": "markdown",
      "metadata": {
        "id": "view-in-github",
        "colab_type": "text"
      },
      "source": [
        "<a href=\"https://colab.research.google.com/github/m-schildt/TED/blob/main/TED.ipynb\" target=\"_parent\"><img src=\"https://colab.research.google.com/assets/colab-badge.svg\" alt=\"Open In Colab\"/></a>"
      ]
    },
    {
      "cell_type": "markdown",
      "metadata": {
        "id": "706qLLjWVT2T"
      },
      "source": [
        "<center>\n",
        "<a href=\"https://github.com/m-schildt/TED-Tenders-Electronic-Daily\">\n",
        "<img  src=\"https://i.imgur.com/bpWj04P.png\">\n",
        "</a>\n",
        "\n",
        "```\n",
        "Exploring EU tenders with Python\n",
        "\n",
        "A walk-through of our Data Structures & Algorithms final project\n",
        "Marco Schildt and Santiago Sordo\n",
        "Master of Data Science for Public Policy - Hertie School - Fall 2021\n",
        "```\n",
        "\n",
        "\n"
      ]
    },
    {
      "cell_type": "markdown",
      "source": [
        "# 0. Setting things up\n",
        "\n",
        "Before we begin, lets clone [our repository](https://github.com/m-schildt/TED-Tenders-Electronic-Daily) to use its contents and navigate to the folder containing our scripts:"
      ],
      "metadata": {
        "id": "b1gTm26A1nEs"
      }
    },
    {
      "cell_type": "code",
      "source": [
        "!git clone https://github.com/m-schildt/TED\n",
        "path = '/content/TED/scripts'\n",
        "import os\n",
        "os.chdir(path)"
      ],
      "metadata": {
        "colab": {
          "base_uri": "https://localhost:8080/"
        },
        "id": "xPF1uxwf1v3E",
        "outputId": "5e4b9fff-5a77-4b79-c4fa-ccdba6919f5a"
      },
      "execution_count": 1,
      "outputs": [
        {
          "output_type": "stream",
          "name": "stdout",
          "text": [
            "Cloning into 'TED'...\n",
            "remote: Enumerating objects: 167, done.\u001b[K\n",
            "remote: Counting objects: 100% (130/130), done.\u001b[K\n",
            "remote: Compressing objects: 100% (118/118), done.\u001b[K\n",
            "remote: Total 167 (delta 74), reused 21 (delta 10), pack-reused 37\u001b[K\n",
            "Receiving objects: 100% (167/167), 200.45 KiB | 5.57 MiB/s, done.\n",
            "Resolving deltas: 100% (83/83), done.\n"
          ]
        }
      ]
    },
    {
      "cell_type": "markdown",
      "source": [
        "Now let's import our scripts:"
      ],
      "metadata": {
        "id": "yK8-QfaM6T09"
      }
    },
    {
      "cell_type": "code",
      "source": [
        "from retriever import retrieve\n",
        "from decompressor import decompress\n",
        "from extractor import extract\n",
        "from converter import convert"
      ],
      "metadata": {
        "id": "WPF6Amgm5PmG"
      },
      "execution_count": 2,
      "outputs": []
    },
    {
      "cell_type": "markdown",
      "source": [
        "And back to our root directory:"
      ],
      "metadata": {
        "id": "7EzLfVd19PaE"
      }
    },
    {
      "cell_type": "code",
      "source": [
        "os.chdir('../..')"
      ],
      "metadata": {
        "id": "b_FZtizE7aQs"
      },
      "execution_count": 3,
      "outputs": []
    },
    {
      "cell_type": "markdown",
      "metadata": {
        "id": "HtLBJiZHV99l"
      },
      "source": [
        "# 1. Introduction"
      ]
    },
    {
      "cell_type": "markdown",
      "metadata": {
        "id": "r-HpZ0svaCe7"
      },
      "source": [
        "## 1.1 Context\n",
        "The procurement of goods and services is one of the core tasks a government must successfully accomplish to keep a country running. According to the World Bank, trillions of euros are spent every year by governments in what is the largest global marketplace, and the EU with its single market is one of the largest players within it. Transparency of taxpayer-money allocation in procurement processes is hence paramount to government accountability.\n",
        "\n",
        "Tenders Electronic Daily (TED) is the online version of the EU’s public procurement journal. TED offers free and open access to tender and contract documents in XML format dating back to 1993. The documents contain information like contracting entity, description of the services rendered and contract value.\n"
      ]
    },
    {
      "cell_type": "markdown",
      "source": [
        "\n",
        "## 1.2 Problem definition\n",
        "\n",
        "While the availability of TED documents is a great asset for transparency, producing actionable insights requires significant understanding of the repository’s documents, databases and systems in addition to data science skills. Without these, accessing the data, consolidating reports and generating knowledge can be daunting, rendering transparency of EU procurement a luxury out of the reach of most stakeholders.\n"
      ],
      "metadata": {
        "id": "rIwerOCBQZGx"
      }
    },
    {
      "cell_type": "markdown",
      "source": [
        "## 1.3 Proposal\n",
        "\n",
        "While some level of technical knowledge is ineluctable, access to TED data can be improved by the provision of tools that facilitate the production of actionable insights. We propose to create a set of tools that will ebable a beginner-level Python-savvy user (like us!) to obtain some insights into the tenders available in TED.\n",
        "\n",
        "To achieve this, we have developed a set of functions written in Python that automate the basic steps of the data science pipeline: get (`retrieve()` and `decompress`), clean (`extract()`) and prepare (also `extract()`). There is also some currency convertion ahead, for which we will use `convert()`.\n",
        "\n",
        "In the following sections, we will demonstrate each of these functions with an example. In the final section, we will use the output of our pipeline -a CSV containing useful variables- to provide some insights into a randomly selected day's worth of XML files.\n"
      ],
      "metadata": {
        "id": "sEs_RaVlQkcy"
      }
    },
    {
      "cell_type": "markdown",
      "metadata": {
        "id": "_1jj-xw0_krF"
      },
      "source": [
        "## 1.4 About our repository and this notebook\n",
        "\n",
        "Whil our GitHub repository is home to all our work, we decided to create this explainer notebook to guide you through our project. As you can see, here we briefly comment each file, but put them to the test with a real example. We ask that you refer back to the repo to view the fully commented scripts we created."
      ]
    },
    {
      "cell_type": "markdown",
      "metadata": {
        "id": "r9vvlg_HRZZe"
      },
      "source": [
        "# 2. Demonstration\n",
        "\n",
        "In this section, we will walk you through the pipeline that turns a pile of XMLs into modest but already insight-packed set of CSVs. In the final subsection we perform a very short but illustrative exploration of the kind of questions that can be answered with out work."
      ]
    },
    {
      "cell_type": "markdown",
      "source": [
        "## 2.1 Retrieving a file with `retrieve()`\n",
        "\n",
        "The first step in the pipeline is to retrieve a file. The TED FTP repository contains, among other directories, two directories with sets of compressed files: one by day called `daily-packages` and one by month called `monthly-packages`. We will be working with the former.\n",
        "\n",
        "Within this directory, the files are stored by year and then by month. Within each month's subdirectory, there are files that follow the following naming convention: date_file-number. The dates follow a 'YYYYMMDD' format and the file numbers a 'YYYYXXX' format. In the latter, 'XXX' is the actual file number for that year the specific date has for that year. Only one file per day, if any, exists. All files are compressed tarballs, and thus have a tar.gz extension.\n",
        "\n",
        "For example, the file for March 9, 2017 would have '20170309_2017XXX' as a name. The 'XXX' part cannot be determined in advance, as these numbers are assigned as files are generated. This means that if the first file of the year is for January 2, its name should be 'YYYY0102_YYYY001'. With this naming structure, and given that there is only one file per day, it is sufficient to search for that file which starts with a desired 'YYYYMMDD' to retrieve it if it exists.\n",
        "\n",
        "Note that this naming convention only works for ranges of dates starting in 2011, which will be our test case.\n",
        "\n",
        "To retrieve a file, we simply do the following:"
      ],
      "metadata": {
        "id": "fNYXIZ7vRnGu"
      }
    },
    {
      "cell_type": "code",
      "source": [
        "retrieve(\"20200918\")"
      ],
      "metadata": {
        "colab": {
          "base_uri": "https://localhost:8080/",
          "height": 53
        },
        "id": "BxbbRo8U2N3K",
        "outputId": "47ee1a64-0a5c-4313-8f90-30a58c25b79e"
      },
      "execution_count": 4,
      "outputs": [
        {
          "output_type": "stream",
          "name": "stdout",
          "text": [
            "File was downloaded successfully.\n"
          ]
        },
        {
          "output_type": "execute_result",
          "data": {
            "application/vnd.google.colaboratory.intrinsic+json": {
              "type": "string"
            },
            "text/plain": [
              "'20200918_2020182.tar.gz'"
            ]
          },
          "metadata": {},
          "execution_count": 4
        }
      ]
    },
    {
      "cell_type": "markdown",
      "source": [
        "The file should now be available under 'Files' if you click on the menu on the left."
      ],
      "metadata": {
        "id": "0S_5gUewAHR9"
      }
    },
    {
      "cell_type": "markdown",
      "source": [
        "## 2.2 Decompressing a file with `decompress`\n",
        "\n",
        "Now that we have our tarball, the next step is to decompress it. We will store the XML files it contains in an object called `xml_files`:\n"
      ],
      "metadata": {
        "id": "jAkjtYV7AUlZ"
      }
    },
    {
      "cell_type": "code",
      "source": [
        "xml_files = decompress('20200918_2020182.tar.gz')"
      ],
      "metadata": {
        "colab": {
          "base_uri": "https://localhost:8080/"
        },
        "id": "NNCt-zZRAlgg",
        "outputId": "b1d00fb3-fff2-4564-87a6-3b33444ffe3b"
      },
      "execution_count": 5,
      "outputs": [
        {
          "output_type": "stream",
          "name": "stdout",
          "text": [
            "File was decompressed successfully.\n"
          ]
        }
      ]
    },
    {
      "cell_type": "markdown",
      "source": [
        "How many XMLs are in there?"
      ],
      "metadata": {
        "id": "uI85UB45BtzA"
      }
    },
    {
      "cell_type": "code",
      "source": [
        "len(xml_files)"
      ],
      "metadata": {
        "colab": {
          "base_uri": "https://localhost:8080/"
        },
        "id": "0qmYnFXqBhmS",
        "outputId": "3ccd236b-928b-484c-e794-74fd7f8614f9"
      },
      "execution_count": 6,
      "outputs": [
        {
          "output_type": "execute_result",
          "data": {
            "text/plain": [
              "4939"
            ]
          },
          "metadata": {},
          "execution_count": 6
        }
      ]
    },
    {
      "cell_type": "markdown",
      "source": [
        "This corresponds to 4,939 tenders full of XML tags to explore."
      ],
      "metadata": {
        "id": "BvW8fNYsBxR-"
      }
    },
    {
      "cell_type": "markdown",
      "source": [
        "## 2.3 Parsing the XMLs with `extract()`\n",
        "\n",
        "To give you an idea of the complexity involved in parsing the XMLs. Let's have a look at the element tree of our first file:\n",
        "\n",
        "```\n",
        "# This is formatted as code\n",
        "```\n",
        "\n"
      ],
      "metadata": {
        "id": "SYu7tD51B4ys"
      }
    },
    {
      "cell_type": "code",
      "source": [
        "from xml.etree import ElementTree\n",
        "\n",
        "with open(xml_files[0], 'rt') as file:\n",
        "    tree = ElementTree.parse(file)\n",
        "\n",
        "for node in tree.iter():\n",
        "    print(node.tag, node.attrib)"
      ],
      "metadata": {
        "colab": {
          "base_uri": "https://localhost:8080/"
        },
        "id": "XOqOhx85C4s6",
        "outputId": "6e058ce6-858e-4539-bf20-f215359bbd7c"
      },
      "execution_count": 7,
      "outputs": [
        {
          "output_type": "stream",
          "name": "stdout",
          "text": [
            "{http://publications.europa.eu/resource/schema/ted/R2.0.9/publication}TED_EXPORT {'{http://www.w3.org/2001/XMLSchema-instance}schemaLocation': 'http://publications.europa.eu/resource/schema/ted/R2.0.9/publication TED_EXPORT.xsd', 'VERSION': 'R2.0.9.S03.E01', 'DOC_ID': '440687-2020', 'EDITION': '2020182'}\n",
            "{http://publications.europa.eu/resource/schema/ted/R2.0.9/publication}TECHNICAL_SECTION {}\n",
            "{http://publications.europa.eu/resource/schema/ted/R2.0.9/publication}RECEPTION_ID {}\n",
            "{http://publications.europa.eu/resource/schema/ted/R2.0.9/publication}DELETION_DATE {}\n",
            "{http://publications.europa.eu/resource/schema/ted/R2.0.9/publication}FORM_LG_LIST {}\n",
            "{http://publications.europa.eu/resource/schema/ted/R2.0.9/publication}COMMENTS {}\n",
            "{http://publications.europa.eu/resource/schema/ted/R2.0.9/publication}LINKS_SECTION {}\n",
            "{http://publications.europa.eu/resource/schema/ted/R2.0.9/publication}XML_SCHEMA_DEFINITION_LINK {'{http://www.w3.org/1999/xlink}type': 'simple', '{http://www.w3.org/1999/xlink}href': 'http://ted.europa.eu', '{http://www.w3.org/1999/xlink}title': 'TED WEBSITE'}\n",
            "{http://publications.europa.eu/resource/schema/ted/R2.0.9/publication}OFFICIAL_FORMS_LINK {'{http://www.w3.org/1999/xlink}type': 'simple', '{http://www.w3.org/1999/xlink}href': 'http://ted.europa.eu'}\n",
            "{http://publications.europa.eu/resource/schema/ted/R2.0.9/publication}FORMS_LABELS_LINK {'{http://www.w3.org/1999/xlink}type': 'simple', '{http://www.w3.org/1999/xlink}href': 'http://ted.europa.eu'}\n",
            "{http://publications.europa.eu/resource/schema/ted/R2.0.9/publication}ORIGINAL_CPV_LINK {'{http://www.w3.org/1999/xlink}type': 'simple', '{http://www.w3.org/1999/xlink}href': 'http://ted.europa.eu'}\n",
            "{http://publications.europa.eu/resource/schema/ted/R2.0.9/publication}ORIGINAL_NUTS_LINK {'{http://www.w3.org/1999/xlink}type': 'simple', '{http://www.w3.org/1999/xlink}href': 'http://ted.europa.eu'}\n",
            "{http://publications.europa.eu/resource/schema/ted/R2.0.9/publication}CODED_DATA_SECTION {}\n",
            "{http://publications.europa.eu/resource/schema/ted/R2.0.9/publication}REF_OJS {}\n",
            "{http://publications.europa.eu/resource/schema/ted/R2.0.9/publication}COLL_OJ {}\n",
            "{http://publications.europa.eu/resource/schema/ted/R2.0.9/publication}NO_OJ {}\n",
            "{http://publications.europa.eu/resource/schema/ted/R2.0.9/publication}DATE_PUB {}\n",
            "{http://publications.europa.eu/resource/schema/ted/R2.0.9/publication}NOTICE_DATA {}\n",
            "{http://publications.europa.eu/resource/schema/ted/R2.0.9/publication}NO_DOC_OJS {}\n",
            "{http://publications.europa.eu/resource/schema/ted/R2.0.9/publication}URI_LIST {}\n",
            "{http://publications.europa.eu/resource/schema/ted/R2.0.9/publication}URI_DOC {'LG': 'EN'}\n",
            "{http://publications.europa.eu/resource/schema/ted/R2.0.9/publication}LG_ORIG {}\n",
            "{http://publications.europa.eu/resource/schema/ted/R2.0.9/publication}ISO_COUNTRY {'VALUE': 'IS'}\n",
            "{http://publications.europa.eu/resource/schema/ted/R2.0.9/publication}IA_URL_GENERAL {}\n",
            "{http://publications.europa.eu/resource/schema/ted/R2.0.9/publication}ORIGINAL_CPV {'CODE': '31170000'}\n",
            "{http://publications.europa.eu/resource/schema/ted/2016/nuts}PERFORMANCE_NUTS {'CODE': 'IS'}\n",
            "{http://publications.europa.eu/resource/schema/ted/2016/nuts}CA_CE_NUTS {'CODE': 'IS'}\n",
            "{http://publications.europa.eu/resource/schema/ted/R2.0.9/publication}REF_NOTICE {}\n",
            "{http://publications.europa.eu/resource/schema/ted/R2.0.9/publication}NO_DOC_OJS {}\n",
            "{http://publications.europa.eu/resource/schema/ted/R2.0.9/publication}CODIF_DATA {}\n",
            "{http://publications.europa.eu/resource/schema/ted/R2.0.9/publication}DS_DATE_DISPATCH {}\n",
            "{http://publications.europa.eu/resource/schema/ted/R2.0.9/publication}DT_DATE_FOR_SUBMISSION {}\n",
            "{http://publications.europa.eu/resource/schema/ted/R2.0.9/publication}AA_AUTHORITY_TYPE {'CODE': '4'}\n",
            "{http://publications.europa.eu/resource/schema/ted/R2.0.9/publication}TD_DOCUMENT_TYPE {'CODE': '2'}\n",
            "{http://publications.europa.eu/resource/schema/ted/R2.0.9/publication}NC_CONTRACT_NATURE {'CODE': '2'}\n",
            "{http://publications.europa.eu/resource/schema/ted/R2.0.9/publication}PR_PROC {'CODE': '1'}\n",
            "{http://publications.europa.eu/resource/schema/ted/R2.0.9/publication}RP_REGULATION {'CODE': '6'}\n",
            "{http://publications.europa.eu/resource/schema/ted/R2.0.9/publication}TY_TYPE_BID {'CODE': '1'}\n",
            "{http://publications.europa.eu/resource/schema/ted/R2.0.9/publication}AC_AWARD_CRIT {'CODE': '2'}\n",
            "{http://publications.europa.eu/resource/schema/ted/R2.0.9/publication}MA_MAIN_ACTIVITIES {'CODE': 'N'}\n",
            "{http://publications.europa.eu/resource/schema/ted/R2.0.9/publication}HEADING {}\n",
            "{http://publications.europa.eu/resource/schema/ted/R2.0.9/publication}INITIATOR {}\n",
            "{http://publications.europa.eu/resource/schema/ted/R2.0.9/publication}TRANSLATION_SECTION {}\n",
            "{http://publications.europa.eu/resource/schema/ted/R2.0.9/publication}ML_TITLES {}\n",
            "{http://publications.europa.eu/resource/schema/ted/R2.0.9/publication}ML_TI_DOC {'LG': 'BG'}\n",
            "{http://publications.europa.eu/resource/schema/ted/R2.0.9/publication}TI_CY {}\n",
            "{http://publications.europa.eu/resource/schema/ted/R2.0.9/publication}TI_TOWN {}\n",
            "{http://publications.europa.eu/resource/schema/ted/R2.0.9/publication}TI_TEXT {}\n",
            "{http://publications.europa.eu/resource/schema/ted/R2.0.9/publication}P {}\n",
            "{http://publications.europa.eu/resource/schema/ted/R2.0.9/publication}ML_TI_DOC {'LG': 'CS'}\n",
            "{http://publications.europa.eu/resource/schema/ted/R2.0.9/publication}TI_CY {}\n",
            "{http://publications.europa.eu/resource/schema/ted/R2.0.9/publication}TI_TOWN {}\n",
            "{http://publications.europa.eu/resource/schema/ted/R2.0.9/publication}TI_TEXT {}\n",
            "{http://publications.europa.eu/resource/schema/ted/R2.0.9/publication}P {}\n",
            "{http://publications.europa.eu/resource/schema/ted/R2.0.9/publication}ML_TI_DOC {'LG': 'DA'}\n",
            "{http://publications.europa.eu/resource/schema/ted/R2.0.9/publication}TI_CY {}\n",
            "{http://publications.europa.eu/resource/schema/ted/R2.0.9/publication}TI_TOWN {}\n",
            "{http://publications.europa.eu/resource/schema/ted/R2.0.9/publication}TI_TEXT {}\n",
            "{http://publications.europa.eu/resource/schema/ted/R2.0.9/publication}P {}\n",
            "{http://publications.europa.eu/resource/schema/ted/R2.0.9/publication}ML_TI_DOC {'LG': 'DE'}\n",
            "{http://publications.europa.eu/resource/schema/ted/R2.0.9/publication}TI_CY {}\n",
            "{http://publications.europa.eu/resource/schema/ted/R2.0.9/publication}TI_TOWN {}\n",
            "{http://publications.europa.eu/resource/schema/ted/R2.0.9/publication}TI_TEXT {}\n",
            "{http://publications.europa.eu/resource/schema/ted/R2.0.9/publication}P {}\n",
            "{http://publications.europa.eu/resource/schema/ted/R2.0.9/publication}ML_TI_DOC {'LG': 'EL'}\n",
            "{http://publications.europa.eu/resource/schema/ted/R2.0.9/publication}TI_CY {}\n",
            "{http://publications.europa.eu/resource/schema/ted/R2.0.9/publication}TI_TOWN {}\n",
            "{http://publications.europa.eu/resource/schema/ted/R2.0.9/publication}TI_TEXT {}\n",
            "{http://publications.europa.eu/resource/schema/ted/R2.0.9/publication}P {}\n",
            "{http://publications.europa.eu/resource/schema/ted/R2.0.9/publication}ML_TI_DOC {'LG': 'EN'}\n",
            "{http://publications.europa.eu/resource/schema/ted/R2.0.9/publication}TI_CY {}\n",
            "{http://publications.europa.eu/resource/schema/ted/R2.0.9/publication}TI_TOWN {}\n",
            "{http://publications.europa.eu/resource/schema/ted/R2.0.9/publication}TI_TEXT {}\n",
            "{http://publications.europa.eu/resource/schema/ted/R2.0.9/publication}P {}\n",
            "{http://publications.europa.eu/resource/schema/ted/R2.0.9/publication}ML_TI_DOC {'LG': 'ES'}\n",
            "{http://publications.europa.eu/resource/schema/ted/R2.0.9/publication}TI_CY {}\n",
            "{http://publications.europa.eu/resource/schema/ted/R2.0.9/publication}TI_TOWN {}\n",
            "{http://publications.europa.eu/resource/schema/ted/R2.0.9/publication}TI_TEXT {}\n",
            "{http://publications.europa.eu/resource/schema/ted/R2.0.9/publication}P {}\n",
            "{http://publications.europa.eu/resource/schema/ted/R2.0.9/publication}ML_TI_DOC {'LG': 'ET'}\n",
            "{http://publications.europa.eu/resource/schema/ted/R2.0.9/publication}TI_CY {}\n",
            "{http://publications.europa.eu/resource/schema/ted/R2.0.9/publication}TI_TOWN {}\n",
            "{http://publications.europa.eu/resource/schema/ted/R2.0.9/publication}TI_TEXT {}\n",
            "{http://publications.europa.eu/resource/schema/ted/R2.0.9/publication}P {}\n",
            "{http://publications.europa.eu/resource/schema/ted/R2.0.9/publication}ML_TI_DOC {'LG': 'FI'}\n",
            "{http://publications.europa.eu/resource/schema/ted/R2.0.9/publication}TI_CY {}\n",
            "{http://publications.europa.eu/resource/schema/ted/R2.0.9/publication}TI_TOWN {}\n",
            "{http://publications.europa.eu/resource/schema/ted/R2.0.9/publication}TI_TEXT {}\n",
            "{http://publications.europa.eu/resource/schema/ted/R2.0.9/publication}P {}\n",
            "{http://publications.europa.eu/resource/schema/ted/R2.0.9/publication}ML_TI_DOC {'LG': 'FR'}\n",
            "{http://publications.europa.eu/resource/schema/ted/R2.0.9/publication}TI_CY {}\n",
            "{http://publications.europa.eu/resource/schema/ted/R2.0.9/publication}TI_TOWN {}\n",
            "{http://publications.europa.eu/resource/schema/ted/R2.0.9/publication}TI_TEXT {}\n",
            "{http://publications.europa.eu/resource/schema/ted/R2.0.9/publication}P {}\n",
            "{http://publications.europa.eu/resource/schema/ted/R2.0.9/publication}ML_TI_DOC {'LG': 'GA'}\n",
            "{http://publications.europa.eu/resource/schema/ted/R2.0.9/publication}TI_CY {}\n",
            "{http://publications.europa.eu/resource/schema/ted/R2.0.9/publication}TI_TOWN {}\n",
            "{http://publications.europa.eu/resource/schema/ted/R2.0.9/publication}TI_TEXT {}\n",
            "{http://publications.europa.eu/resource/schema/ted/R2.0.9/publication}P {}\n",
            "{http://publications.europa.eu/resource/schema/ted/R2.0.9/publication}ML_TI_DOC {'LG': 'HR'}\n",
            "{http://publications.europa.eu/resource/schema/ted/R2.0.9/publication}TI_CY {}\n",
            "{http://publications.europa.eu/resource/schema/ted/R2.0.9/publication}TI_TOWN {}\n",
            "{http://publications.europa.eu/resource/schema/ted/R2.0.9/publication}TI_TEXT {}\n",
            "{http://publications.europa.eu/resource/schema/ted/R2.0.9/publication}P {}\n",
            "{http://publications.europa.eu/resource/schema/ted/R2.0.9/publication}ML_TI_DOC {'LG': 'HU'}\n",
            "{http://publications.europa.eu/resource/schema/ted/R2.0.9/publication}TI_CY {}\n",
            "{http://publications.europa.eu/resource/schema/ted/R2.0.9/publication}TI_TOWN {}\n",
            "{http://publications.europa.eu/resource/schema/ted/R2.0.9/publication}TI_TEXT {}\n",
            "{http://publications.europa.eu/resource/schema/ted/R2.0.9/publication}P {}\n",
            "{http://publications.europa.eu/resource/schema/ted/R2.0.9/publication}ML_TI_DOC {'LG': 'IT'}\n",
            "{http://publications.europa.eu/resource/schema/ted/R2.0.9/publication}TI_CY {}\n",
            "{http://publications.europa.eu/resource/schema/ted/R2.0.9/publication}TI_TOWN {}\n",
            "{http://publications.europa.eu/resource/schema/ted/R2.0.9/publication}TI_TEXT {}\n",
            "{http://publications.europa.eu/resource/schema/ted/R2.0.9/publication}P {}\n",
            "{http://publications.europa.eu/resource/schema/ted/R2.0.9/publication}ML_TI_DOC {'LG': 'LT'}\n",
            "{http://publications.europa.eu/resource/schema/ted/R2.0.9/publication}TI_CY {}\n",
            "{http://publications.europa.eu/resource/schema/ted/R2.0.9/publication}TI_TOWN {}\n",
            "{http://publications.europa.eu/resource/schema/ted/R2.0.9/publication}TI_TEXT {}\n",
            "{http://publications.europa.eu/resource/schema/ted/R2.0.9/publication}P {}\n",
            "{http://publications.europa.eu/resource/schema/ted/R2.0.9/publication}ML_TI_DOC {'LG': 'LV'}\n",
            "{http://publications.europa.eu/resource/schema/ted/R2.0.9/publication}TI_CY {}\n",
            "{http://publications.europa.eu/resource/schema/ted/R2.0.9/publication}TI_TOWN {}\n",
            "{http://publications.europa.eu/resource/schema/ted/R2.0.9/publication}TI_TEXT {}\n",
            "{http://publications.europa.eu/resource/schema/ted/R2.0.9/publication}P {}\n",
            "{http://publications.europa.eu/resource/schema/ted/R2.0.9/publication}ML_TI_DOC {'LG': 'MT'}\n",
            "{http://publications.europa.eu/resource/schema/ted/R2.0.9/publication}TI_CY {}\n",
            "{http://publications.europa.eu/resource/schema/ted/R2.0.9/publication}TI_TOWN {}\n",
            "{http://publications.europa.eu/resource/schema/ted/R2.0.9/publication}TI_TEXT {}\n",
            "{http://publications.europa.eu/resource/schema/ted/R2.0.9/publication}P {}\n",
            "{http://publications.europa.eu/resource/schema/ted/R2.0.9/publication}ML_TI_DOC {'LG': 'NL'}\n",
            "{http://publications.europa.eu/resource/schema/ted/R2.0.9/publication}TI_CY {}\n",
            "{http://publications.europa.eu/resource/schema/ted/R2.0.9/publication}TI_TOWN {}\n",
            "{http://publications.europa.eu/resource/schema/ted/R2.0.9/publication}TI_TEXT {}\n",
            "{http://publications.europa.eu/resource/schema/ted/R2.0.9/publication}P {}\n",
            "{http://publications.europa.eu/resource/schema/ted/R2.0.9/publication}ML_TI_DOC {'LG': 'PL'}\n",
            "{http://publications.europa.eu/resource/schema/ted/R2.0.9/publication}TI_CY {}\n",
            "{http://publications.europa.eu/resource/schema/ted/R2.0.9/publication}TI_TOWN {}\n",
            "{http://publications.europa.eu/resource/schema/ted/R2.0.9/publication}TI_TEXT {}\n",
            "{http://publications.europa.eu/resource/schema/ted/R2.0.9/publication}P {}\n",
            "{http://publications.europa.eu/resource/schema/ted/R2.0.9/publication}ML_TI_DOC {'LG': 'PT'}\n",
            "{http://publications.europa.eu/resource/schema/ted/R2.0.9/publication}TI_CY {}\n",
            "{http://publications.europa.eu/resource/schema/ted/R2.0.9/publication}TI_TOWN {}\n",
            "{http://publications.europa.eu/resource/schema/ted/R2.0.9/publication}TI_TEXT {}\n",
            "{http://publications.europa.eu/resource/schema/ted/R2.0.9/publication}P {}\n",
            "{http://publications.europa.eu/resource/schema/ted/R2.0.9/publication}ML_TI_DOC {'LG': 'RO'}\n",
            "{http://publications.europa.eu/resource/schema/ted/R2.0.9/publication}TI_CY {}\n",
            "{http://publications.europa.eu/resource/schema/ted/R2.0.9/publication}TI_TOWN {}\n",
            "{http://publications.europa.eu/resource/schema/ted/R2.0.9/publication}TI_TEXT {}\n",
            "{http://publications.europa.eu/resource/schema/ted/R2.0.9/publication}P {}\n",
            "{http://publications.europa.eu/resource/schema/ted/R2.0.9/publication}ML_TI_DOC {'LG': 'SK'}\n",
            "{http://publications.europa.eu/resource/schema/ted/R2.0.9/publication}TI_CY {}\n",
            "{http://publications.europa.eu/resource/schema/ted/R2.0.9/publication}TI_TOWN {}\n",
            "{http://publications.europa.eu/resource/schema/ted/R2.0.9/publication}TI_TEXT {}\n",
            "{http://publications.europa.eu/resource/schema/ted/R2.0.9/publication}P {}\n",
            "{http://publications.europa.eu/resource/schema/ted/R2.0.9/publication}ML_TI_DOC {'LG': 'SL'}\n",
            "{http://publications.europa.eu/resource/schema/ted/R2.0.9/publication}TI_CY {}\n",
            "{http://publications.europa.eu/resource/schema/ted/R2.0.9/publication}TI_TOWN {}\n",
            "{http://publications.europa.eu/resource/schema/ted/R2.0.9/publication}TI_TEXT {}\n",
            "{http://publications.europa.eu/resource/schema/ted/R2.0.9/publication}P {}\n",
            "{http://publications.europa.eu/resource/schema/ted/R2.0.9/publication}ML_TI_DOC {'LG': 'SV'}\n",
            "{http://publications.europa.eu/resource/schema/ted/R2.0.9/publication}TI_CY {}\n",
            "{http://publications.europa.eu/resource/schema/ted/R2.0.9/publication}TI_TOWN {}\n",
            "{http://publications.europa.eu/resource/schema/ted/R2.0.9/publication}TI_TEXT {}\n",
            "{http://publications.europa.eu/resource/schema/ted/R2.0.9/publication}P {}\n",
            "{http://publications.europa.eu/resource/schema/ted/R2.0.9/publication}ML_AA_NAMES {}\n",
            "{http://publications.europa.eu/resource/schema/ted/R2.0.9/publication}AA_NAME {'LG': 'EN'}\n",
            "{http://publications.europa.eu/resource/schema/ted/R2.0.9/publication}FORM_SECTION {}\n",
            "{http://publications.europa.eu/resource/schema/ted/R2.0.9/publication}F14_2014 {'CATEGORY': 'ORIGINAL', 'FORM': 'F14', 'LG': 'EN'}\n",
            "{http://publications.europa.eu/resource/schema/ted/R2.0.9/publication}LEGAL_BASIS {'VALUE': '32014L0025'}\n",
            "{http://publications.europa.eu/resource/schema/ted/R2.0.9/publication}CONTRACTING_BODY {}\n",
            "{http://publications.europa.eu/resource/schema/ted/R2.0.9/publication}ADDRESS_CONTRACTING_BODY {}\n",
            "{http://publications.europa.eu/resource/schema/ted/R2.0.9/publication}OFFICIALNAME {}\n",
            "{http://publications.europa.eu/resource/schema/ted/R2.0.9/publication}NATIONALID {}\n",
            "{http://publications.europa.eu/resource/schema/ted/R2.0.9/publication}ADDRESS {}\n",
            "{http://publications.europa.eu/resource/schema/ted/R2.0.9/publication}TOWN {}\n",
            "{http://publications.europa.eu/resource/schema/ted/R2.0.9/publication}POSTAL_CODE {}\n",
            "{http://publications.europa.eu/resource/schema/ted/R2.0.9/publication}COUNTRY {'VALUE': 'IS'}\n",
            "{http://publications.europa.eu/resource/schema/ted/R2.0.9/publication}CONTACT_POINT {}\n",
            "{http://publications.europa.eu/resource/schema/ted/R2.0.9/publication}PHONE {}\n",
            "{http://publications.europa.eu/resource/schema/ted/R2.0.9/publication}E_MAIL {}\n",
            "{http://publications.europa.eu/resource/schema/ted/2016/nuts}NUTS {'CODE': 'IS'}\n",
            "{http://publications.europa.eu/resource/schema/ted/R2.0.9/publication}URL_GENERAL {}\n",
            "{http://publications.europa.eu/resource/schema/ted/R2.0.9/publication}URL_BUYER {}\n",
            "{http://publications.europa.eu/resource/schema/ted/R2.0.9/publication}OBJECT_CONTRACT {}\n",
            "{http://publications.europa.eu/resource/schema/ted/R2.0.9/publication}TITLE {}\n",
            "{http://publications.europa.eu/resource/schema/ted/R2.0.9/publication}P {}\n",
            "{http://publications.europa.eu/resource/schema/ted/R2.0.9/publication}REFERENCE_NUMBER {}\n",
            "{http://publications.europa.eu/resource/schema/ted/R2.0.9/publication}CPV_MAIN {}\n",
            "{http://publications.europa.eu/resource/schema/ted/R2.0.9/publication}CPV_CODE {'CODE': '31170000'}\n",
            "{http://publications.europa.eu/resource/schema/ted/R2.0.9/publication}TYPE_CONTRACT {'CTYPE': 'SUPPLIES'}\n",
            "{http://publications.europa.eu/resource/schema/ted/R2.0.9/publication}SHORT_DESCR {}\n",
            "{http://publications.europa.eu/resource/schema/ted/R2.0.9/publication}P {}\n",
            "{http://publications.europa.eu/resource/schema/ted/R2.0.9/publication}COMPLEMENTARY_INFO {}\n",
            "{http://publications.europa.eu/resource/schema/ted/R2.0.9/publication}DATE_DISPATCH_NOTICE {}\n",
            "{http://publications.europa.eu/resource/schema/ted/R2.0.9/publication}NOTICE_NUMBER_OJ {}\n",
            "{http://publications.europa.eu/resource/schema/ted/R2.0.9/publication}CHANGES {}\n",
            "{http://publications.europa.eu/resource/schema/ted/R2.0.9/publication}CHANGE {'PUBLICATION': 'YES'}\n",
            "{http://publications.europa.eu/resource/schema/ted/R2.0.9/publication}WHERE {}\n",
            "{http://publications.europa.eu/resource/schema/ted/R2.0.9/publication}SECTION {}\n",
            "{http://publications.europa.eu/resource/schema/ted/R2.0.9/publication}LABEL {}\n",
            "{http://publications.europa.eu/resource/schema/ted/R2.0.9/publication}OLD_VALUE {}\n",
            "{http://publications.europa.eu/resource/schema/ted/R2.0.9/publication}DATE {}\n",
            "{http://publications.europa.eu/resource/schema/ted/R2.0.9/publication}TIME {}\n",
            "{http://publications.europa.eu/resource/schema/ted/R2.0.9/publication}NEW_VALUE {}\n",
            "{http://publications.europa.eu/resource/schema/ted/R2.0.9/publication}DATE {}\n",
            "{http://publications.europa.eu/resource/schema/ted/R2.0.9/publication}TIME {}\n",
            "{http://publications.europa.eu/resource/schema/ted/R2.0.9/publication}CHANGE {'PUBLICATION': 'YES'}\n",
            "{http://publications.europa.eu/resource/schema/ted/R2.0.9/publication}WHERE {}\n",
            "{http://publications.europa.eu/resource/schema/ted/R2.0.9/publication}SECTION {}\n",
            "{http://publications.europa.eu/resource/schema/ted/R2.0.9/publication}LABEL {}\n",
            "{http://publications.europa.eu/resource/schema/ted/R2.0.9/publication}OLD_VALUE {}\n",
            "{http://publications.europa.eu/resource/schema/ted/R2.0.9/publication}DATE {}\n",
            "{http://publications.europa.eu/resource/schema/ted/R2.0.9/publication}TIME {}\n",
            "{http://publications.europa.eu/resource/schema/ted/R2.0.9/publication}NEW_VALUE {}\n",
            "{http://publications.europa.eu/resource/schema/ted/R2.0.9/publication}DATE {}\n",
            "{http://publications.europa.eu/resource/schema/ted/R2.0.9/publication}TIME {}\n"
          ]
        }
      ]
    },
    {
      "cell_type": "markdown",
      "source": [
        "As you can see, the complexity is daunting, and many of the fields in the file are empty. In its current state, our data doesn't even give us a clue as to what questions are sensible.\n",
        "\n",
        "In order to simplify our problem and demonstrate what is possible, we will be obtaining the contents of the following attributes:\n",
        "- tender ID\n",
        "- contractee\n",
        "- contractor\n",
        "- CPV: Common Procurement Vocabulary - subject matter of public contracts\n",
        "- type of \"items\" supplied: works, service or supplies\n",
        "- country of contractee\n",
        "- NUTS: Nomenclature of Territorial Units for Statistics - refering to a geographic region\n",
        "- value\n",
        "- currency\n",
        "\n",
        "A complete list of the codes in each available XML schema can be found [here](https://op.europa.eu/en/web/eu-vocabularies/e-procurement/tedschemas).\n",
        "\n",
        "To achieve this, we just have to run `extract()`!:"
      ],
      "metadata": {
        "id": "PrBMPTaNFCRH"
      }
    },
    {
      "cell_type": "code",
      "source": [
        "extract(xml_files, \"20200918.csv\")"
      ],
      "metadata": {
        "id": "_ROo1ivsF5-n"
      },
      "execution_count": 8,
      "outputs": []
    },
    {
      "cell_type": "markdown",
      "source": [
        "## 2.4 Exploration\n",
        "\n",
        "Let's have a look at what we just extracted into a CSV. Click on the button that looks like this to better navigate the data frame: <img src=https://i.imgur.com/uS7Hc2P.png height = 50>"
      ],
      "metadata": {
        "id": "31TpbDkFGo62"
      }
    },
    {
      "cell_type": "code",
      "source": [
        "import numpy as np\n",
        "import pandas as pd\n",
        "import matplotlib as mpl\n",
        "import matplotlib.pyplot as plt\n",
        "\n",
        "tenders = pd.read_csv('20200918.csv')\n",
        "tenders"
      ],
      "metadata": {
        "colab": {
          "base_uri": "https://localhost:8080/",
          "height": 424
        },
        "id": "g2Cf2g2XGxo9",
        "outputId": "bfce2e3f-79c1-41bb-a76a-555158708eda"
      },
      "execution_count": 9,
      "outputs": [
        {
          "output_type": "execute_result",
          "data": {
            "text/html": [
              "\n",
              "  <div id=\"df-fd7af28c-6477-4e46-92c0-ecf062b0606e\">\n",
              "    <div class=\"colab-df-container\">\n",
              "      <div>\n",
              "<style scoped>\n",
              "    .dataframe tbody tr th:only-of-type {\n",
              "        vertical-align: middle;\n",
              "    }\n",
              "\n",
              "    .dataframe tbody tr th {\n",
              "        vertical-align: top;\n",
              "    }\n",
              "\n",
              "    .dataframe thead th {\n",
              "        text-align: right;\n",
              "    }\n",
              "</style>\n",
              "<table border=\"1\" class=\"dataframe\">\n",
              "  <thead>\n",
              "    <tr style=\"text-align: right;\">\n",
              "      <th></th>\n",
              "      <th>ID</th>\n",
              "      <th>Contractee</th>\n",
              "      <th>Contractor</th>\n",
              "      <th>CPV</th>\n",
              "      <th>Type</th>\n",
              "      <th>Country</th>\n",
              "      <th>Nuts</th>\n",
              "      <th>Value</th>\n",
              "      <th>Currency</th>\n",
              "    </tr>\n",
              "  </thead>\n",
              "  <tbody>\n",
              "    <tr>\n",
              "      <th>0</th>\n",
              "      <td>439549-2020</td>\n",
              "      <td>Asociația Universităților a Institutelor de Ce...</td>\n",
              "      <td>E-NFORMATION</td>\n",
              "      <td>72320000</td>\n",
              "      <td>SERVICES</td>\n",
              "      <td>RO</td>\n",
              "      <td>RO213</td>\n",
              "      <td>38698700.00</td>\n",
              "      <td>RON</td>\n",
              "    </tr>\n",
              "    <tr>\n",
              "      <th>1</th>\n",
              "      <td>439549-2020</td>\n",
              "      <td>Asociația Universităților a Institutelor de Ce...</td>\n",
              "      <td>S.C. ROMDIDAC S.A. S.A.</td>\n",
              "      <td>72320000</td>\n",
              "      <td>SERVICES</td>\n",
              "      <td>RO</td>\n",
              "      <td>RO213</td>\n",
              "      <td>2294603.00</td>\n",
              "      <td>RON</td>\n",
              "    </tr>\n",
              "    <tr>\n",
              "      <th>2</th>\n",
              "      <td>437675-2020</td>\n",
              "      <td>Klinikum Region Hannover GmbH</td>\n",
              "      <td>Leica GmbH</td>\n",
              "      <td>38510000</td>\n",
              "      <td>SUPPLIES</td>\n",
              "      <td>DE</td>\n",
              "      <td>DE929</td>\n",
              "      <td>430429.79</td>\n",
              "      <td>EUR</td>\n",
              "    </tr>\n",
              "    <tr>\n",
              "      <th>3</th>\n",
              "      <td>437299-2020</td>\n",
              "      <td>Kaarea Oy</td>\n",
              "      <td>Veraisen Leipomo Oy</td>\n",
              "      <td>15810000</td>\n",
              "      <td>SUPPLIES</td>\n",
              "      <td>FI</td>\n",
              "      <td>FI1C1</td>\n",
              "      <td>800000.00</td>\n",
              "      <td>EUR</td>\n",
              "    </tr>\n",
              "    <tr>\n",
              "      <th>4</th>\n",
              "      <td>437299-2020</td>\n",
              "      <td>Kaarea Oy</td>\n",
              "      <td>Lunden Food Oü</td>\n",
              "      <td>15810000</td>\n",
              "      <td>SUPPLIES</td>\n",
              "      <td>FI</td>\n",
              "      <td>FI1C1</td>\n",
              "      <td>600000.00</td>\n",
              "      <td>EUR</td>\n",
              "    </tr>\n",
              "    <tr>\n",
              "      <th>...</th>\n",
              "      <td>...</td>\n",
              "      <td>...</td>\n",
              "      <td>...</td>\n",
              "      <td>...</td>\n",
              "      <td>...</td>\n",
              "      <td>...</td>\n",
              "      <td>...</td>\n",
              "      <td>...</td>\n",
              "      <td>...</td>\n",
              "    </tr>\n",
              "    <tr>\n",
              "      <th>4986</th>\n",
              "      <td>437442-2020</td>\n",
              "      <td>Município de Elvas</td>\n",
              "      <td>Alfagene Novas Tecnologias das Ciências da Vid...</td>\n",
              "      <td>38900000</td>\n",
              "      <td>SUPPLIES</td>\n",
              "      <td>PT</td>\n",
              "      <td>PT186</td>\n",
              "      <td>58581.00</td>\n",
              "      <td>EUR</td>\n",
              "    </tr>\n",
              "    <tr>\n",
              "      <th>4987</th>\n",
              "      <td>437442-2020</td>\n",
              "      <td>Município de Elvas</td>\n",
              "      <td>Unicam — Sistemas Analíticos Lda.</td>\n",
              "      <td>38900000</td>\n",
              "      <td>SUPPLIES</td>\n",
              "      <td>PT</td>\n",
              "      <td>PT186</td>\n",
              "      <td>80900.00</td>\n",
              "      <td>EUR</td>\n",
              "    </tr>\n",
              "    <tr>\n",
              "      <th>4988</th>\n",
              "      <td>437442-2020</td>\n",
              "      <td>Município de Elvas</td>\n",
              "      <td>VWR — Internacional Lda.</td>\n",
              "      <td>38900000</td>\n",
              "      <td>SUPPLIES</td>\n",
              "      <td>PT</td>\n",
              "      <td>PT186</td>\n",
              "      <td>20925.40</td>\n",
              "      <td>EUR</td>\n",
              "    </tr>\n",
              "    <tr>\n",
              "      <th>4989</th>\n",
              "      <td>440918-2020</td>\n",
              "      <td>Midlands and Lancashire Commissioning Support ...</td>\n",
              "      <td>PremCard Ltd</td>\n",
              "      <td>85100000</td>\n",
              "      <td>SERVICES</td>\n",
              "      <td>UK</td>\n",
              "      <td>UKG13</td>\n",
              "      <td>3653.66</td>\n",
              "      <td>GBP</td>\n",
              "    </tr>\n",
              "    <tr>\n",
              "      <th>4990</th>\n",
              "      <td>437655-2020</td>\n",
              "      <td>Polizeiinspektion Zentrale Dienste Sachsen-Anhalt</td>\n",
              "      <td>tetris Modulbauu GmbH</td>\n",
              "      <td>44211100</td>\n",
              "      <td>SUPPLIES</td>\n",
              "      <td>DE</td>\n",
              "      <td>DEE0</td>\n",
              "      <td>0.01</td>\n",
              "      <td>EUR</td>\n",
              "    </tr>\n",
              "  </tbody>\n",
              "</table>\n",
              "<p>4991 rows × 9 columns</p>\n",
              "</div>\n",
              "      <button class=\"colab-df-convert\" onclick=\"convertToInteractive('df-fd7af28c-6477-4e46-92c0-ecf062b0606e')\"\n",
              "              title=\"Convert this dataframe to an interactive table.\"\n",
              "              style=\"display:none;\">\n",
              "        \n",
              "  <svg xmlns=\"http://www.w3.org/2000/svg\" height=\"24px\"viewBox=\"0 0 24 24\"\n",
              "       width=\"24px\">\n",
              "    <path d=\"M0 0h24v24H0V0z\" fill=\"none\"/>\n",
              "    <path d=\"M18.56 5.44l.94 2.06.94-2.06 2.06-.94-2.06-.94-.94-2.06-.94 2.06-2.06.94zm-11 1L8.5 8.5l.94-2.06 2.06-.94-2.06-.94L8.5 2.5l-.94 2.06-2.06.94zm10 10l.94 2.06.94-2.06 2.06-.94-2.06-.94-.94-2.06-.94 2.06-2.06.94z\"/><path d=\"M17.41 7.96l-1.37-1.37c-.4-.4-.92-.59-1.43-.59-.52 0-1.04.2-1.43.59L10.3 9.45l-7.72 7.72c-.78.78-.78 2.05 0 2.83L4 21.41c.39.39.9.59 1.41.59.51 0 1.02-.2 1.41-.59l7.78-7.78 2.81-2.81c.8-.78.8-2.07 0-2.86zM5.41 20L4 18.59l7.72-7.72 1.47 1.35L5.41 20z\"/>\n",
              "  </svg>\n",
              "      </button>\n",
              "      \n",
              "  <style>\n",
              "    .colab-df-container {\n",
              "      display:flex;\n",
              "      flex-wrap:wrap;\n",
              "      gap: 12px;\n",
              "    }\n",
              "\n",
              "    .colab-df-convert {\n",
              "      background-color: #E8F0FE;\n",
              "      border: none;\n",
              "      border-radius: 50%;\n",
              "      cursor: pointer;\n",
              "      display: none;\n",
              "      fill: #1967D2;\n",
              "      height: 32px;\n",
              "      padding: 0 0 0 0;\n",
              "      width: 32px;\n",
              "    }\n",
              "\n",
              "    .colab-df-convert:hover {\n",
              "      background-color: #E2EBFA;\n",
              "      box-shadow: 0px 1px 2px rgba(60, 64, 67, 0.3), 0px 1px 3px 1px rgba(60, 64, 67, 0.15);\n",
              "      fill: #174EA6;\n",
              "    }\n",
              "\n",
              "    [theme=dark] .colab-df-convert {\n",
              "      background-color: #3B4455;\n",
              "      fill: #D2E3FC;\n",
              "    }\n",
              "\n",
              "    [theme=dark] .colab-df-convert:hover {\n",
              "      background-color: #434B5C;\n",
              "      box-shadow: 0px 1px 3px 1px rgba(0, 0, 0, 0.15);\n",
              "      filter: drop-shadow(0px 1px 2px rgba(0, 0, 0, 0.3));\n",
              "      fill: #FFFFFF;\n",
              "    }\n",
              "  </style>\n",
              "\n",
              "      <script>\n",
              "        const buttonEl =\n",
              "          document.querySelector('#df-fd7af28c-6477-4e46-92c0-ecf062b0606e button.colab-df-convert');\n",
              "        buttonEl.style.display =\n",
              "          google.colab.kernel.accessAllowed ? 'block' : 'none';\n",
              "\n",
              "        async function convertToInteractive(key) {\n",
              "          const element = document.querySelector('#df-fd7af28c-6477-4e46-92c0-ecf062b0606e');\n",
              "          const dataTable =\n",
              "            await google.colab.kernel.invokeFunction('convertToInteractive',\n",
              "                                                     [key], {});\n",
              "          if (!dataTable) return;\n",
              "\n",
              "          const docLinkHtml = 'Like what you see? Visit the ' +\n",
              "            '<a target=\"_blank\" href=https://colab.research.google.com/notebooks/data_table.ipynb>data table notebook</a>'\n",
              "            + ' to learn more about interactive tables.';\n",
              "          element.innerHTML = '';\n",
              "          dataTable['output_type'] = 'display_data';\n",
              "          await google.colab.output.renderOutput(dataTable, element);\n",
              "          const docLink = document.createElement('div');\n",
              "          docLink.innerHTML = docLinkHtml;\n",
              "          element.appendChild(docLink);\n",
              "        }\n",
              "      </script>\n",
              "    </div>\n",
              "  </div>\n",
              "  "
            ],
            "text/plain": [
              "               ID  ... Currency\n",
              "0     439549-2020  ...      RON\n",
              "1     439549-2020  ...      RON\n",
              "2     437675-2020  ...      EUR\n",
              "3     437299-2020  ...      EUR\n",
              "4     437299-2020  ...      EUR\n",
              "...           ...  ...      ...\n",
              "4986  437442-2020  ...      EUR\n",
              "4987  437442-2020  ...      EUR\n",
              "4988  437442-2020  ...      EUR\n",
              "4989  440918-2020  ...      GBP\n",
              "4990  437655-2020  ...      EUR\n",
              "\n",
              "[4991 rows x 9 columns]"
            ]
          },
          "metadata": {},
          "execution_count": 9
        }
      ]
    },
    {
      "cell_type": "markdown",
      "source": [
        "A last step for comparability is currency convesrion. To create a column with the value of each tender converted into euros, we only need to do the sun our `convert()` function. This uses an extrnal API, and for now uses the current exchange rate. Of course this can be improved to use the tender date's rate, but we won't do this for the time being. Let's run this:"
      ],
      "metadata": {
        "id": "Ildo9sFBTT8h"
      }
    },
    {
      "cell_type": "code",
      "source": [
        "tenders = convert(tenders)\n",
        "tenders"
      ],
      "metadata": {
        "colab": {
          "base_uri": "https://localhost:8080/",
          "height": 1068
        },
        "id": "j8hFTbSILxhL",
        "outputId": "42870a37-e209-47ac-ca09-334bb7a12bd1"
      },
      "execution_count": 11,
      "outputs": [
        {
          "output_type": "execute_result",
          "data": {
            "text/html": [
              "\n",
              "  <div id=\"df-08663d70-91b6-406d-ac71-c9c80be16f1e\">\n",
              "    <div class=\"colab-df-container\">\n",
              "      <div>\n",
              "<style scoped>\n",
              "    .dataframe tbody tr th:only-of-type {\n",
              "        vertical-align: middle;\n",
              "    }\n",
              "\n",
              "    .dataframe tbody tr th {\n",
              "        vertical-align: top;\n",
              "    }\n",
              "\n",
              "    .dataframe thead th {\n",
              "        text-align: right;\n",
              "    }\n",
              "</style>\n",
              "<table border=\"1\" class=\"dataframe\">\n",
              "  <thead>\n",
              "    <tr style=\"text-align: right;\">\n",
              "      <th></th>\n",
              "      <th>ID</th>\n",
              "      <th>Contractee</th>\n",
              "      <th>Contractor</th>\n",
              "      <th>CPV</th>\n",
              "      <th>Type</th>\n",
              "      <th>Country</th>\n",
              "      <th>Nuts</th>\n",
              "      <th>Value</th>\n",
              "      <th>Currency</th>\n",
              "      <th>Value in EUR</th>\n",
              "    </tr>\n",
              "  </thead>\n",
              "  <tbody>\n",
              "    <tr>\n",
              "      <th>0</th>\n",
              "      <td>439549-2020</td>\n",
              "      <td>Asociația Universităților a Institutelor de Ce...</td>\n",
              "      <td>E-NFORMATION</td>\n",
              "      <td>72320000</td>\n",
              "      <td>SERVICES</td>\n",
              "      <td>RO</td>\n",
              "      <td>RO213</td>\n",
              "      <td>38698700.00</td>\n",
              "      <td>RON</td>\n",
              "      <td>7833744.94</td>\n",
              "    </tr>\n",
              "    <tr>\n",
              "      <th>1</th>\n",
              "      <td>439549-2020</td>\n",
              "      <td>Asociația Universităților a Institutelor de Ce...</td>\n",
              "      <td>S.C. ROMDIDAC S.A. S.A.</td>\n",
              "      <td>72320000</td>\n",
              "      <td>SERVICES</td>\n",
              "      <td>RO</td>\n",
              "      <td>RO213</td>\n",
              "      <td>2294603.00</td>\n",
              "      <td>RON</td>\n",
              "      <td>464494.53</td>\n",
              "    </tr>\n",
              "    <tr>\n",
              "      <th>2</th>\n",
              "      <td>437675-2020</td>\n",
              "      <td>Klinikum Region Hannover GmbH</td>\n",
              "      <td>Leica GmbH</td>\n",
              "      <td>38510000</td>\n",
              "      <td>SUPPLIES</td>\n",
              "      <td>DE</td>\n",
              "      <td>DE929</td>\n",
              "      <td>430429.79</td>\n",
              "      <td>EUR</td>\n",
              "      <td>430429.79</td>\n",
              "    </tr>\n",
              "    <tr>\n",
              "      <th>3</th>\n",
              "      <td>437299-2020</td>\n",
              "      <td>Kaarea Oy</td>\n",
              "      <td>Veraisen Leipomo Oy</td>\n",
              "      <td>15810000</td>\n",
              "      <td>SUPPLIES</td>\n",
              "      <td>FI</td>\n",
              "      <td>FI1C1</td>\n",
              "      <td>800000.00</td>\n",
              "      <td>EUR</td>\n",
              "      <td>800000.00</td>\n",
              "    </tr>\n",
              "    <tr>\n",
              "      <th>4</th>\n",
              "      <td>437299-2020</td>\n",
              "      <td>Kaarea Oy</td>\n",
              "      <td>Lunden Food Oü</td>\n",
              "      <td>15810000</td>\n",
              "      <td>SUPPLIES</td>\n",
              "      <td>FI</td>\n",
              "      <td>FI1C1</td>\n",
              "      <td>600000.00</td>\n",
              "      <td>EUR</td>\n",
              "      <td>600000.00</td>\n",
              "    </tr>\n",
              "    <tr>\n",
              "      <th>...</th>\n",
              "      <td>...</td>\n",
              "      <td>...</td>\n",
              "      <td>...</td>\n",
              "      <td>...</td>\n",
              "      <td>...</td>\n",
              "      <td>...</td>\n",
              "      <td>...</td>\n",
              "      <td>...</td>\n",
              "      <td>...</td>\n",
              "      <td>...</td>\n",
              "    </tr>\n",
              "    <tr>\n",
              "      <th>4986</th>\n",
              "      <td>437442-2020</td>\n",
              "      <td>Município de Elvas</td>\n",
              "      <td>Alfagene Novas Tecnologias das Ciências da Vid...</td>\n",
              "      <td>38900000</td>\n",
              "      <td>SUPPLIES</td>\n",
              "      <td>PT</td>\n",
              "      <td>PT186</td>\n",
              "      <td>58581.00</td>\n",
              "      <td>EUR</td>\n",
              "      <td>58581.00</td>\n",
              "    </tr>\n",
              "    <tr>\n",
              "      <th>4987</th>\n",
              "      <td>437442-2020</td>\n",
              "      <td>Município de Elvas</td>\n",
              "      <td>Unicam — Sistemas Analíticos Lda.</td>\n",
              "      <td>38900000</td>\n",
              "      <td>SUPPLIES</td>\n",
              "      <td>PT</td>\n",
              "      <td>PT186</td>\n",
              "      <td>80900.00</td>\n",
              "      <td>EUR</td>\n",
              "      <td>80900.00</td>\n",
              "    </tr>\n",
              "    <tr>\n",
              "      <th>4988</th>\n",
              "      <td>437442-2020</td>\n",
              "      <td>Município de Elvas</td>\n",
              "      <td>VWR — Internacional Lda.</td>\n",
              "      <td>38900000</td>\n",
              "      <td>SUPPLIES</td>\n",
              "      <td>PT</td>\n",
              "      <td>PT186</td>\n",
              "      <td>20925.40</td>\n",
              "      <td>EUR</td>\n",
              "      <td>20925.40</td>\n",
              "    </tr>\n",
              "    <tr>\n",
              "      <th>4989</th>\n",
              "      <td>440918-2020</td>\n",
              "      <td>Midlands and Lancashire Commissioning Support ...</td>\n",
              "      <td>PremCard Ltd</td>\n",
              "      <td>85100000</td>\n",
              "      <td>SERVICES</td>\n",
              "      <td>UK</td>\n",
              "      <td>UKG13</td>\n",
              "      <td>3653.66</td>\n",
              "      <td>GBP</td>\n",
              "      <td>4298.42</td>\n",
              "    </tr>\n",
              "    <tr>\n",
              "      <th>4990</th>\n",
              "      <td>437655-2020</td>\n",
              "      <td>Polizeiinspektion Zentrale Dienste Sachsen-Anhalt</td>\n",
              "      <td>tetris Modulbauu GmbH</td>\n",
              "      <td>44211100</td>\n",
              "      <td>SUPPLIES</td>\n",
              "      <td>DE</td>\n",
              "      <td>DEE0</td>\n",
              "      <td>0.01</td>\n",
              "      <td>EUR</td>\n",
              "      <td>0.01</td>\n",
              "    </tr>\n",
              "  </tbody>\n",
              "</table>\n",
              "<p>4991 rows × 10 columns</p>\n",
              "</div>\n",
              "      <button class=\"colab-df-convert\" onclick=\"convertToInteractive('df-08663d70-91b6-406d-ac71-c9c80be16f1e')\"\n",
              "              title=\"Convert this dataframe to an interactive table.\"\n",
              "              style=\"display:none;\">\n",
              "        \n",
              "  <svg xmlns=\"http://www.w3.org/2000/svg\" height=\"24px\"viewBox=\"0 0 24 24\"\n",
              "       width=\"24px\">\n",
              "    <path d=\"M0 0h24v24H0V0z\" fill=\"none\"/>\n",
              "    <path d=\"M18.56 5.44l.94 2.06.94-2.06 2.06-.94-2.06-.94-.94-2.06-.94 2.06-2.06.94zm-11 1L8.5 8.5l.94-2.06 2.06-.94-2.06-.94L8.5 2.5l-.94 2.06-2.06.94zm10 10l.94 2.06.94-2.06 2.06-.94-2.06-.94-.94-2.06-.94 2.06-2.06.94z\"/><path d=\"M17.41 7.96l-1.37-1.37c-.4-.4-.92-.59-1.43-.59-.52 0-1.04.2-1.43.59L10.3 9.45l-7.72 7.72c-.78.78-.78 2.05 0 2.83L4 21.41c.39.39.9.59 1.41.59.51 0 1.02-.2 1.41-.59l7.78-7.78 2.81-2.81c.8-.78.8-2.07 0-2.86zM5.41 20L4 18.59l7.72-7.72 1.47 1.35L5.41 20z\"/>\n",
              "  </svg>\n",
              "      </button>\n",
              "      \n",
              "  <style>\n",
              "    .colab-df-container {\n",
              "      display:flex;\n",
              "      flex-wrap:wrap;\n",
              "      gap: 12px;\n",
              "    }\n",
              "\n",
              "    .colab-df-convert {\n",
              "      background-color: #E8F0FE;\n",
              "      border: none;\n",
              "      border-radius: 50%;\n",
              "      cursor: pointer;\n",
              "      display: none;\n",
              "      fill: #1967D2;\n",
              "      height: 32px;\n",
              "      padding: 0 0 0 0;\n",
              "      width: 32px;\n",
              "    }\n",
              "\n",
              "    .colab-df-convert:hover {\n",
              "      background-color: #E2EBFA;\n",
              "      box-shadow: 0px 1px 2px rgba(60, 64, 67, 0.3), 0px 1px 3px 1px rgba(60, 64, 67, 0.15);\n",
              "      fill: #174EA6;\n",
              "    }\n",
              "\n",
              "    [theme=dark] .colab-df-convert {\n",
              "      background-color: #3B4455;\n",
              "      fill: #D2E3FC;\n",
              "    }\n",
              "\n",
              "    [theme=dark] .colab-df-convert:hover {\n",
              "      background-color: #434B5C;\n",
              "      box-shadow: 0px 1px 3px 1px rgba(0, 0, 0, 0.15);\n",
              "      filter: drop-shadow(0px 1px 2px rgba(0, 0, 0, 0.3));\n",
              "      fill: #FFFFFF;\n",
              "    }\n",
              "  </style>\n",
              "\n",
              "      <script>\n",
              "        const buttonEl =\n",
              "          document.querySelector('#df-08663d70-91b6-406d-ac71-c9c80be16f1e button.colab-df-convert');\n",
              "        buttonEl.style.display =\n",
              "          google.colab.kernel.accessAllowed ? 'block' : 'none';\n",
              "\n",
              "        async function convertToInteractive(key) {\n",
              "          const element = document.querySelector('#df-08663d70-91b6-406d-ac71-c9c80be16f1e');\n",
              "          const dataTable =\n",
              "            await google.colab.kernel.invokeFunction('convertToInteractive',\n",
              "                                                     [key], {});\n",
              "          if (!dataTable) return;\n",
              "\n",
              "          const docLinkHtml = 'Like what you see? Visit the ' +\n",
              "            '<a target=\"_blank\" href=https://colab.research.google.com/notebooks/data_table.ipynb>data table notebook</a>'\n",
              "            + ' to learn more about interactive tables.';\n",
              "          element.innerHTML = '';\n",
              "          dataTable['output_type'] = 'display_data';\n",
              "          await google.colab.output.renderOutput(dataTable, element);\n",
              "          const docLink = document.createElement('div');\n",
              "          docLink.innerHTML = docLinkHtml;\n",
              "          element.appendChild(docLink);\n",
              "        }\n",
              "      </script>\n",
              "    </div>\n",
              "  </div>\n",
              "  "
            ],
            "text/plain": [
              "               ID  ... Value in EUR\n",
              "0     439549-2020  ...   7833744.94\n",
              "1     439549-2020  ...    464494.53\n",
              "2     437675-2020  ...    430429.79\n",
              "3     437299-2020  ...    800000.00\n",
              "4     437299-2020  ...    600000.00\n",
              "...           ...  ...          ...\n",
              "4986  437442-2020  ...     58581.00\n",
              "4987  437442-2020  ...     80900.00\n",
              "4988  437442-2020  ...     20925.40\n",
              "4989  440918-2020  ...      4298.42\n",
              "4990  437655-2020  ...         0.01\n",
              "\n",
              "[4991 rows x 10 columns]"
            ]
          },
          "metadata": {},
          "execution_count": 11
        }
      ]
    },
    {
      "cell_type": "markdown",
      "source": [
        "## 2.5 Gaining insights\n",
        "\n",
        "Now we can start posing interesting questions and obtain some answers."
      ],
      "metadata": {
        "id": "VOxsw4LDL5kz"
      }
    },
    {
      "cell_type": "markdown",
      "source": [
        "### 2.4.1 What is the total value of the tenders reported in datour example?"
      ],
      "metadata": {
        "id": "y7p9aWI5ifAq"
      }
    },
    {
      "cell_type": "code",
      "source": [
        "\"€{:,.2f}\".format(sum(tenders['Value in EUR']))"
      ],
      "metadata": {
        "colab": {
          "base_uri": "https://localhost:8080/",
          "height": 35
        },
        "id": "0yT97EsJOV3v",
        "outputId": "29380f99-2b2e-44b6-fb27-139e5a064742"
      },
      "execution_count": 12,
      "outputs": [
        {
          "output_type": "execute_result",
          "data": {
            "application/vnd.google.colaboratory.intrinsic+json": {
              "type": "string"
            },
            "text/plain": [
              "'€28,797,411,358.07'"
            ]
          },
          "metadata": {},
          "execution_count": 12
        }
      ]
    },
    {
      "cell_type": "markdown",
      "source": [
        "As you can see, the total value of the tenders reported for September 18, 2020 was a staggering €28,811,347,333.60! Let that sink in: more than 28 billion euros!"
      ],
      "metadata": {
        "id": "ka02a6pSOrau"
      }
    },
    {
      "cell_type": "markdown",
      "source": [
        "### 2.4.2 What countries reported the largest amount of tenders that day and how many tenders per country are there?"
      ],
      "metadata": {
        "id": "hpD_oHQ8isfs"
      }
    },
    {
      "cell_type": "code",
      "source": [
        "cbc = tenders.groupby([\"Country\"]).size()\n",
        "cbc = cbc.sort_values(ascending = False)\n",
        "cbc = cbc.to_frame()[:10]\n",
        "cbc"
      ],
      "metadata": {
        "colab": {
          "base_uri": "https://localhost:8080/",
          "height": 394
        },
        "id": "RrhmMNXHPIEB",
        "outputId": "cf9c86d2-ea36-4c06-b7e1-715a14512aa3"
      },
      "execution_count": 13,
      "outputs": [
        {
          "output_type": "execute_result",
          "data": {
            "text/html": [
              "\n",
              "  <div id=\"df-4134f250-75a3-4ce6-a483-3f9ee6eb6285\">\n",
              "    <div class=\"colab-df-container\">\n",
              "      <div>\n",
              "<style scoped>\n",
              "    .dataframe tbody tr th:only-of-type {\n",
              "        vertical-align: middle;\n",
              "    }\n",
              "\n",
              "    .dataframe tbody tr th {\n",
              "        vertical-align: top;\n",
              "    }\n",
              "\n",
              "    .dataframe thead th {\n",
              "        text-align: right;\n",
              "    }\n",
              "</style>\n",
              "<table border=\"1\" class=\"dataframe\">\n",
              "  <thead>\n",
              "    <tr style=\"text-align: right;\">\n",
              "      <th></th>\n",
              "      <th>0</th>\n",
              "    </tr>\n",
              "    <tr>\n",
              "      <th>Country</th>\n",
              "      <th></th>\n",
              "    </tr>\n",
              "  </thead>\n",
              "  <tbody>\n",
              "    <tr>\n",
              "      <th>PL</th>\n",
              "      <td>973</td>\n",
              "    </tr>\n",
              "    <tr>\n",
              "      <th>FR</th>\n",
              "      <td>817</td>\n",
              "    </tr>\n",
              "    <tr>\n",
              "      <th>RO</th>\n",
              "      <td>526</td>\n",
              "    </tr>\n",
              "    <tr>\n",
              "      <th>DE</th>\n",
              "      <td>503</td>\n",
              "    </tr>\n",
              "    <tr>\n",
              "      <th>SE</th>\n",
              "      <td>361</td>\n",
              "    </tr>\n",
              "    <tr>\n",
              "      <th>ES</th>\n",
              "      <td>283</td>\n",
              "    </tr>\n",
              "    <tr>\n",
              "      <th>SI</th>\n",
              "      <td>152</td>\n",
              "    </tr>\n",
              "    <tr>\n",
              "      <th>HR</th>\n",
              "      <td>149</td>\n",
              "    </tr>\n",
              "    <tr>\n",
              "      <th>IE</th>\n",
              "      <td>125</td>\n",
              "    </tr>\n",
              "    <tr>\n",
              "      <th>BG</th>\n",
              "      <td>125</td>\n",
              "    </tr>\n",
              "  </tbody>\n",
              "</table>\n",
              "</div>\n",
              "      <button class=\"colab-df-convert\" onclick=\"convertToInteractive('df-4134f250-75a3-4ce6-a483-3f9ee6eb6285')\"\n",
              "              title=\"Convert this dataframe to an interactive table.\"\n",
              "              style=\"display:none;\">\n",
              "        \n",
              "  <svg xmlns=\"http://www.w3.org/2000/svg\" height=\"24px\"viewBox=\"0 0 24 24\"\n",
              "       width=\"24px\">\n",
              "    <path d=\"M0 0h24v24H0V0z\" fill=\"none\"/>\n",
              "    <path d=\"M18.56 5.44l.94 2.06.94-2.06 2.06-.94-2.06-.94-.94-2.06-.94 2.06-2.06.94zm-11 1L8.5 8.5l.94-2.06 2.06-.94-2.06-.94L8.5 2.5l-.94 2.06-2.06.94zm10 10l.94 2.06.94-2.06 2.06-.94-2.06-.94-.94-2.06-.94 2.06-2.06.94z\"/><path d=\"M17.41 7.96l-1.37-1.37c-.4-.4-.92-.59-1.43-.59-.52 0-1.04.2-1.43.59L10.3 9.45l-7.72 7.72c-.78.78-.78 2.05 0 2.83L4 21.41c.39.39.9.59 1.41.59.51 0 1.02-.2 1.41-.59l7.78-7.78 2.81-2.81c.8-.78.8-2.07 0-2.86zM5.41 20L4 18.59l7.72-7.72 1.47 1.35L5.41 20z\"/>\n",
              "  </svg>\n",
              "      </button>\n",
              "      \n",
              "  <style>\n",
              "    .colab-df-container {\n",
              "      display:flex;\n",
              "      flex-wrap:wrap;\n",
              "      gap: 12px;\n",
              "    }\n",
              "\n",
              "    .colab-df-convert {\n",
              "      background-color: #E8F0FE;\n",
              "      border: none;\n",
              "      border-radius: 50%;\n",
              "      cursor: pointer;\n",
              "      display: none;\n",
              "      fill: #1967D2;\n",
              "      height: 32px;\n",
              "      padding: 0 0 0 0;\n",
              "      width: 32px;\n",
              "    }\n",
              "\n",
              "    .colab-df-convert:hover {\n",
              "      background-color: #E2EBFA;\n",
              "      box-shadow: 0px 1px 2px rgba(60, 64, 67, 0.3), 0px 1px 3px 1px rgba(60, 64, 67, 0.15);\n",
              "      fill: #174EA6;\n",
              "    }\n",
              "\n",
              "    [theme=dark] .colab-df-convert {\n",
              "      background-color: #3B4455;\n",
              "      fill: #D2E3FC;\n",
              "    }\n",
              "\n",
              "    [theme=dark] .colab-df-convert:hover {\n",
              "      background-color: #434B5C;\n",
              "      box-shadow: 0px 1px 3px 1px rgba(0, 0, 0, 0.15);\n",
              "      filter: drop-shadow(0px 1px 2px rgba(0, 0, 0, 0.3));\n",
              "      fill: #FFFFFF;\n",
              "    }\n",
              "  </style>\n",
              "\n",
              "      <script>\n",
              "        const buttonEl =\n",
              "          document.querySelector('#df-4134f250-75a3-4ce6-a483-3f9ee6eb6285 button.colab-df-convert');\n",
              "        buttonEl.style.display =\n",
              "          google.colab.kernel.accessAllowed ? 'block' : 'none';\n",
              "\n",
              "        async function convertToInteractive(key) {\n",
              "          const element = document.querySelector('#df-4134f250-75a3-4ce6-a483-3f9ee6eb6285');\n",
              "          const dataTable =\n",
              "            await google.colab.kernel.invokeFunction('convertToInteractive',\n",
              "                                                     [key], {});\n",
              "          if (!dataTable) return;\n",
              "\n",
              "          const docLinkHtml = 'Like what you see? Visit the ' +\n",
              "            '<a target=\"_blank\" href=https://colab.research.google.com/notebooks/data_table.ipynb>data table notebook</a>'\n",
              "            + ' to learn more about interactive tables.';\n",
              "          element.innerHTML = '';\n",
              "          dataTable['output_type'] = 'display_data';\n",
              "          await google.colab.output.renderOutput(dataTable, element);\n",
              "          const docLink = document.createElement('div');\n",
              "          docLink.innerHTML = docLinkHtml;\n",
              "          element.appendChild(docLink);\n",
              "        }\n",
              "      </script>\n",
              "    </div>\n",
              "  </div>\n",
              "  "
            ],
            "text/plain": [
              "           0\n",
              "Country     \n",
              "PL       973\n",
              "FR       817\n",
              "RO       526\n",
              "DE       503\n",
              "SE       361\n",
              "ES       283\n",
              "SI       152\n",
              "HR       149\n",
              "IE       125\n",
              "BG       125"
            ]
          },
          "metadata": {},
          "execution_count": 13
        }
      ]
    },
    {
      "cell_type": "markdown",
      "source": [
        "Poland reported the largest number of tenders, with 973. Does this mean that the country also transacted the highest total value that day"
      ],
      "metadata": {
        "id": "nDiG0CJyQhcq"
      }
    },
    {
      "cell_type": "markdown",
      "source": [
        "### 2.4.3 What countries reported the largest euro value that day and what are their totals?"
      ],
      "metadata": {
        "id": "bP6gE25ijGko"
      }
    },
    {
      "cell_type": "code",
      "source": [
        "pd.options.display.float_format = '€{:,.2f}'.format\n",
        "vbc = tenders.groupby(['Country'], as_index = False).sum()\n",
        "vbc = vbc.sort_values(['Value in EUR'], ascending = False)\n",
        "vbc = vbc[['Country', 'Value in EUR']]\n",
        "vbc[:10]"
      ],
      "metadata": {
        "colab": {
          "base_uri": "https://localhost:8080/",
          "height": 363
        },
        "id": "zsxYxXlnQ4bZ",
        "outputId": "726f2057-9563-4d46-f95f-c1ec974a6687"
      },
      "execution_count": 14,
      "outputs": [
        {
          "output_type": "execute_result",
          "data": {
            "text/html": [
              "\n",
              "  <div id=\"df-c049686a-b9f7-4086-a008-12640f8d9266\">\n",
              "    <div class=\"colab-df-container\">\n",
              "      <div>\n",
              "<style scoped>\n",
              "    .dataframe tbody tr th:only-of-type {\n",
              "        vertical-align: middle;\n",
              "    }\n",
              "\n",
              "    .dataframe tbody tr th {\n",
              "        vertical-align: top;\n",
              "    }\n",
              "\n",
              "    .dataframe thead th {\n",
              "        text-align: right;\n",
              "    }\n",
              "</style>\n",
              "<table border=\"1\" class=\"dataframe\">\n",
              "  <thead>\n",
              "    <tr style=\"text-align: right;\">\n",
              "      <th></th>\n",
              "      <th>Country</th>\n",
              "      <th>Value in EUR</th>\n",
              "    </tr>\n",
              "  </thead>\n",
              "  <tbody>\n",
              "    <tr>\n",
              "      <th>11</th>\n",
              "      <td>FR</td>\n",
              "      <td>€11,584,956,056.32</td>\n",
              "    </tr>\n",
              "    <tr>\n",
              "      <th>23</th>\n",
              "      <td>PL</td>\n",
              "      <td>€6,414,702,374.90</td>\n",
              "    </tr>\n",
              "    <tr>\n",
              "      <th>15</th>\n",
              "      <td>IE</td>\n",
              "      <td>€4,148,109,494.70</td>\n",
              "    </tr>\n",
              "    <tr>\n",
              "      <th>0</th>\n",
              "      <td>AT</td>\n",
              "      <td>€3,441,659,778.20</td>\n",
              "    </tr>\n",
              "    <tr>\n",
              "      <th>29</th>\n",
              "      <td>UK</td>\n",
              "      <td>€973,774,037.49</td>\n",
              "    </tr>\n",
              "    <tr>\n",
              "      <th>17</th>\n",
              "      <td>IT</td>\n",
              "      <td>€703,598,534.32</td>\n",
              "    </tr>\n",
              "    <tr>\n",
              "      <th>22</th>\n",
              "      <td>NO</td>\n",
              "      <td>€405,480,981.77</td>\n",
              "    </tr>\n",
              "    <tr>\n",
              "      <th>9</th>\n",
              "      <td>ES</td>\n",
              "      <td>€342,729,095.97</td>\n",
              "    </tr>\n",
              "    <tr>\n",
              "      <th>10</th>\n",
              "      <td>FI</td>\n",
              "      <td>€109,687,591.27</td>\n",
              "    </tr>\n",
              "    <tr>\n",
              "      <th>6</th>\n",
              "      <td>DE</td>\n",
              "      <td>€103,208,088.54</td>\n",
              "    </tr>\n",
              "  </tbody>\n",
              "</table>\n",
              "</div>\n",
              "      <button class=\"colab-df-convert\" onclick=\"convertToInteractive('df-c049686a-b9f7-4086-a008-12640f8d9266')\"\n",
              "              title=\"Convert this dataframe to an interactive table.\"\n",
              "              style=\"display:none;\">\n",
              "        \n",
              "  <svg xmlns=\"http://www.w3.org/2000/svg\" height=\"24px\"viewBox=\"0 0 24 24\"\n",
              "       width=\"24px\">\n",
              "    <path d=\"M0 0h24v24H0V0z\" fill=\"none\"/>\n",
              "    <path d=\"M18.56 5.44l.94 2.06.94-2.06 2.06-.94-2.06-.94-.94-2.06-.94 2.06-2.06.94zm-11 1L8.5 8.5l.94-2.06 2.06-.94-2.06-.94L8.5 2.5l-.94 2.06-2.06.94zm10 10l.94 2.06.94-2.06 2.06-.94-2.06-.94-.94-2.06-.94 2.06-2.06.94z\"/><path d=\"M17.41 7.96l-1.37-1.37c-.4-.4-.92-.59-1.43-.59-.52 0-1.04.2-1.43.59L10.3 9.45l-7.72 7.72c-.78.78-.78 2.05 0 2.83L4 21.41c.39.39.9.59 1.41.59.51 0 1.02-.2 1.41-.59l7.78-7.78 2.81-2.81c.8-.78.8-2.07 0-2.86zM5.41 20L4 18.59l7.72-7.72 1.47 1.35L5.41 20z\"/>\n",
              "  </svg>\n",
              "      </button>\n",
              "      \n",
              "  <style>\n",
              "    .colab-df-container {\n",
              "      display:flex;\n",
              "      flex-wrap:wrap;\n",
              "      gap: 12px;\n",
              "    }\n",
              "\n",
              "    .colab-df-convert {\n",
              "      background-color: #E8F0FE;\n",
              "      border: none;\n",
              "      border-radius: 50%;\n",
              "      cursor: pointer;\n",
              "      display: none;\n",
              "      fill: #1967D2;\n",
              "      height: 32px;\n",
              "      padding: 0 0 0 0;\n",
              "      width: 32px;\n",
              "    }\n",
              "\n",
              "    .colab-df-convert:hover {\n",
              "      background-color: #E2EBFA;\n",
              "      box-shadow: 0px 1px 2px rgba(60, 64, 67, 0.3), 0px 1px 3px 1px rgba(60, 64, 67, 0.15);\n",
              "      fill: #174EA6;\n",
              "    }\n",
              "\n",
              "    [theme=dark] .colab-df-convert {\n",
              "      background-color: #3B4455;\n",
              "      fill: #D2E3FC;\n",
              "    }\n",
              "\n",
              "    [theme=dark] .colab-df-convert:hover {\n",
              "      background-color: #434B5C;\n",
              "      box-shadow: 0px 1px 3px 1px rgba(0, 0, 0, 0.15);\n",
              "      filter: drop-shadow(0px 1px 2px rgba(0, 0, 0, 0.3));\n",
              "      fill: #FFFFFF;\n",
              "    }\n",
              "  </style>\n",
              "\n",
              "      <script>\n",
              "        const buttonEl =\n",
              "          document.querySelector('#df-c049686a-b9f7-4086-a008-12640f8d9266 button.colab-df-convert');\n",
              "        buttonEl.style.display =\n",
              "          google.colab.kernel.accessAllowed ? 'block' : 'none';\n",
              "\n",
              "        async function convertToInteractive(key) {\n",
              "          const element = document.querySelector('#df-c049686a-b9f7-4086-a008-12640f8d9266');\n",
              "          const dataTable =\n",
              "            await google.colab.kernel.invokeFunction('convertToInteractive',\n",
              "                                                     [key], {});\n",
              "          if (!dataTable) return;\n",
              "\n",
              "          const docLinkHtml = 'Like what you see? Visit the ' +\n",
              "            '<a target=\"_blank\" href=https://colab.research.google.com/notebooks/data_table.ipynb>data table notebook</a>'\n",
              "            + ' to learn more about interactive tables.';\n",
              "          element.innerHTML = '';\n",
              "          dataTable['output_type'] = 'display_data';\n",
              "          await google.colab.output.renderOutput(dataTable, element);\n",
              "          const docLink = document.createElement('div');\n",
              "          docLink.innerHTML = docLinkHtml;\n",
              "          element.appendChild(docLink);\n",
              "        }\n",
              "      </script>\n",
              "    </div>\n",
              "  </div>\n",
              "  "
            ],
            "text/plain": [
              "   Country       Value in EUR\n",
              "11      FR €11,584,956,056.32\n",
              "23      PL  €6,414,702,374.90\n",
              "15      IE  €4,148,109,494.70\n",
              "0       AT  €3,441,659,778.20\n",
              "29      UK    €973,774,037.49\n",
              "17      IT    €703,598,534.32\n",
              "22      NO    €405,480,981.77\n",
              "9       ES    €342,729,095.97\n",
              "10      FI    €109,687,591.27\n",
              "6       DE    €103,208,088.54"
            ]
          },
          "metadata": {},
          "execution_count": 14
        }
      ]
    },
    {
      "cell_type": "markdown",
      "source": [
        "No it is not Poland, it is actually France, and it is almost double what Poland transacted, which means the average tender for France is larger than that of Poland."
      ],
      "metadata": {
        "id": "K2zN2-JzSHRd"
      }
    },
    {
      "cell_type": "markdown",
      "source": [
        "### 2.4.4 Let's do some visualization!\n",
        "\n",
        "Let's visualize the tables we have produced to gain a better understanding of the data we have produced. A plot of the total value per country should let us gage how different each country is in this respect."
      ],
      "metadata": {
        "id": "wvUmmLatjWjA"
      }
    },
    {
      "cell_type": "code",
      "source": [
        "vbc.insert(2, \"Billions\", vbc['Value in EUR']/1000000000, True)\n",
        "vbc = vbc[:10]\n",
        "title = \"Total value of tenders by country\\non September 18, 2020\\n(billions of EUR)\"\n",
        "vbc.plot.bar(x = \"Country\", y = \"Billions\", rot = 90, title = title, legend = False)"
      ],
      "metadata": {
        "colab": {
          "base_uri": "https://localhost:8080/",
          "height": 348
        },
        "id": "mOkdvPiCSpDs",
        "outputId": "feb5987e-2beb-4365-b2ee-66a5a40601e1"
      },
      "execution_count": 15,
      "outputs": [
        {
          "output_type": "execute_result",
          "data": {
            "text/plain": [
              "<matplotlib.axes._subplots.AxesSubplot at 0x7f849dc55890>"
            ]
          },
          "metadata": {},
          "execution_count": 15
        },
        {
          "output_type": "display_data",
          "data": {
            "image/png": "[encoded data removed]",
            "text/plain": [
              "<Figure size 432x288 with 1 Axes>"
            ]
          },
          "metadata": {
            "needs_background": "light"
          }
        }
      ]
    },
    {
      "cell_type": "markdown",
      "source": [
        "As we can see, Ireland and Austria have very similar total values, and Germany is quite far behind. Despite BREXIT taking place on 31 January 2020, the UK is still very high up there; why? This is the kind of insight that produces more questions than answers.\n",
        "\n",
        "Let's now visualize the other table, and explore the number of conracts:"
      ],
      "metadata": {
        "id": "a4k5brMkUZkm"
      }
    },
    {
      "cell_type": "code",
      "source": [
        "cbc = tenders.groupby([\"Country\"], as_index = False).size()\n",
        "cbc = cbc.sort_values(['size'], ascending = False)\n",
        "cbc = cbc[:10]\n",
        "title = \"Total number of tenders by country\\non September 18, 2020\"\n",
        "cbc.plot.bar(x = \"Country\", y = \"size\", rot=90, title=title, legend = False)"
      ],
      "metadata": {
        "colab": {
          "base_uri": "https://localhost:8080/",
          "height": 332
        },
        "id": "iPK0dqroXDJE",
        "outputId": "d88e4ac6-7681-4ff9-f693-19e766d3130c"
      },
      "execution_count": 16,
      "outputs": [
        {
          "output_type": "execute_result",
          "data": {
            "text/plain": [
              "<matplotlib.axes._subplots.AxesSubplot at 0x7f849dcd7cd0>"
            ]
          },
          "metadata": {},
          "execution_count": 16
        },
        {
          "output_type": "display_data",
          "data": {
            "image/png": "[encoded data removed]",
            "text/plain": [
              "<Figure size 432x288 with 1 Axes>"
            ]
          },
          "metadata": {
            "needs_background": "light"
          }
        }
      ]
    },
    {
      "cell_type": "markdown",
      "source": [
        "Interestingly, Germany doesn't do bad at all in this metric. However, despite its comparatively large number of contracts, we know their value is not large, why is this the case? We'll leave that for another day."
      ],
      "metadata": {
        "id": "9brEX3TBk-DU"
      }
    },
    {
      "cell_type": "markdown",
      "source": [
        "# 3. Conlsusion\n",
        "\n",
        "As we hope to have shown, while the path from an repository full with XML tenders to some insights that might increase transparency -and hence accountability- is long, a simple set of functions that automate some tasks is already a step in the right direction. We reckon no layperson would be able to build the tools we have developed, but it is not far-fetched to think that a somewhat nerdy intern at an NGO might use pre-built funcions like ours to get some actionable insights into the huge marketplace that are EU tenders.\n",
        "\n",
        "In the process, we hope we have demonstrated the extent of our beginner-level -but already satisfying- knowledge of algorithms and data structures in Python. While there is still a lot of learning and practicing ahead, we now feel confident that we have the tools to keep building our skills and continue our formation as data science-savvy policy-makers and -analysts.\n",
        "\n",
        "To wrap it up, before this project we were very far from being able to produce insights that could improve EU tender transparency. After completing it, we think it is safe to say that whatever transparency level of transparency we started from, we have incremented it and its value is now `transparency += 1`."
      ],
      "metadata": {
        "id": "yjEhVFUHXoq2"
      }
    }
  ]
}